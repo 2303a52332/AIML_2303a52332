{
  "cells": [
    {
      "cell_type": "markdown",
      "metadata": {
        "id": "view-in-github",
        "colab_type": "text"
      },
      "source": [
        "<a href=\"https://colab.research.google.com/github/2303a52332/AIML_2303a52332/blob/main/2303A52332_Q25_B33.ipynb\" target=\"_parent\"><img src=\"https://colab.research.google.com/assets/colab-badge.svg\" alt=\"Open In Colab\"/></a>"
      ]
    },
    {
      "cell_type": "code",
      "source": [
        "import pandas as pd\n",
        "import numpy as np\n",
        "from sklearn.cluster import KMeans\n",
        "from sklearn.preprocessing import StandardScaler\n",
        "\n",
        "\n",
        "df = pd.read_csv('/content/buddymove+data+set (1).zip')"
      ],
      "metadata": {
        "id": "inCAmMwNrkZS"
      },
      "execution_count": 2,
      "outputs": []
    },
    {
      "cell_type": "code",
      "source": [
        "numeric_df = df.select_dtypes(include=np.number)\n",
        "\n",
        "top_5_attributes = numeric_df.mean().sort_values(ascending=False).head(5)\n",
        "print(\"Top 5 attributes for South India destinations:\")\n",
        "print(top_5_attributes)"
      ],
      "metadata": {
        "id": "s3AZ5QSzsGkw",
        "outputId": "c3fadd55-bc0a-49ce-fc53-96f220cd22d2",
        "colab": {
          "base_uri": "https://localhost:8080/"
        }
      },
      "execution_count": 3,
      "outputs": [
        {
          "output_type": "stream",
          "name": "stdout",
          "text": [
            "Top 5 attributes for South India destinations:\n",
            "Nature       124.518072\n",
            "Picnic       120.401606\n",
            "Theatre      116.377510\n",
            "Shopping     112.638554\n",
            "Religious    109.779116\n",
            "dtype: float64\n"
          ]
        }
      ]
    },
    {
      "cell_type": "code",
      "source": [
        "most_liked_attribute = top_5_attributes.idxmax()\n",
        "print(f\"\\nAttribute with the most liked travel spots: {most_liked_attribute}\")"
      ],
      "metadata": {
        "id": "zEwCtSiXsQc_",
        "outputId": "df395358-8c9a-44b9-a667-ba45dd0116d9",
        "colab": {
          "base_uri": "https://localhost:8080/"
        }
      },
      "execution_count": 4,
      "outputs": [
        {
          "output_type": "stream",
          "name": "stdout",
          "text": [
            "\n",
            "Attribute with the most liked travel spots: Nature\n"
          ]
        }
      ]
    },
    {
      "cell_type": "code",
      "source": [
        "numeric_df = df.select_dtypes(include=np.number)\n",
        "\n",
        "max_min_attributes = numeric_df.mean().sort_values(ascending=False)\n",
        "print(\"\\nMax and Min attributes for South India tourism:\")\n",
        "print(f\"Max: {max_min_attributes.idxmax()} with score {max_min_attributes.max()}\")\n",
        "print(f\"Min: {max_min_attributes.idxmin()} with score {max_min_attributes.min()}\")"
      ],
      "metadata": {
        "id": "WRZMCnQJsVAF",
        "outputId": "ada851d4-e237-417e-f10f-464d4e9a098b",
        "colab": {
          "base_uri": "https://localhost:8080/"
        }
      },
      "execution_count": 5,
      "outputs": [
        {
          "output_type": "stream",
          "name": "stdout",
          "text": [
            "\n",
            "Max and Min attributes for South India tourism:\n",
            "Max: Nature with score 124.51807228915662\n",
            "Min: Sports with score 11.987951807228916\n"
          ]
        }
      ]
    },
    {
      "cell_type": "code",
      "source": [
        "print(df.columns)\n",
        "tourism_roles = df[['Sports', 'Religious', 'Nature', 'Theatre', 'Shopping', 'Picnic']].mean()\n",
        "print(\"\\nRole of beaches, theatres, malls, and parks in South India tourism:\")\n",
        "print(tourism_roles)"
      ],
      "metadata": {
        "id": "TH_j0G1QsYiq",
        "outputId": "0a37dd7b-4ab1-4cf8-dde7-3123e1b7bb09",
        "colab": {
          "base_uri": "https://localhost:8080/"
        }
      },
      "execution_count": 6,
      "outputs": [
        {
          "output_type": "stream",
          "name": "stdout",
          "text": [
            "Index(['User Id', 'Sports', 'Religious', 'Nature', 'Theatre', 'Shopping',\n",
            "       'Picnic'],\n",
            "      dtype='object')\n",
            "\n",
            "Role of beaches, theatres, malls, and parks in South India tourism:\n",
            "Sports        11.987952\n",
            "Religious    109.779116\n",
            "Nature       124.518072\n",
            "Theatre      116.377510\n",
            "Shopping     112.638554\n",
            "Picnic       120.401606\n",
            "dtype: float64\n"
          ]
        }
      ]
    },
    {
      "cell_type": "code",
      "source": [
        "sports_attributes = df['Sports'].mean() # Changed 'sports' to 'Sports'\n",
        "print(f\"\\nSports score (average): {sports_attributes}\")"
      ],
      "metadata": {
        "id": "PEVNWlZPscmP",
        "outputId": "adbc875d-4276-496f-9add-11a370ff584d",
        "colab": {
          "base_uri": "https://localhost:8080/"
        }
      },
      "execution_count": 7,
      "outputs": [
        {
          "output_type": "stream",
          "name": "stdout",
          "text": [
            "\n",
            "Sports score (average): 11.987951807228916\n"
          ]
        }
      ]
    },
    {
      "cell_type": "code",
      "source": [
        "scaler = StandardScaler()\n",
        "scaled_data = scaler.fit_transform(df.iloc[:, 1:])  # Assuming the first column is user ID\n",
        "\n",
        "kmeans = KMeans(n_clusters=3, random_state=42)\n",
        "clusters = kmeans.fit_predict(scaled_data)\n",
        "\n",
        "df['Cluster'] = clusters\n",
        "print(\"\\nClusters assigned to the data:\")\n",
        "print(df['Cluster'].value_counts())"
      ],
      "metadata": {
        "id": "zrRFew6nscWV",
        "outputId": "688fde98-df33-4bfa-f0a5-474b21389b85",
        "colab": {
          "base_uri": "https://localhost:8080/"
        }
      },
      "execution_count": 8,
      "outputs": [
        {
          "output_type": "stream",
          "name": "stdout",
          "text": [
            "\n",
            "Clusters assigned to the data:\n",
            "Cluster\n",
            "2    114\n",
            "0     79\n",
            "1     56\n",
            "Name: count, dtype: int64\n"
          ]
        }
      ]
    }
  ],
  "metadata": {
    "colab": {
      "provenance": [],
      "include_colab_link": true
    },
    "kernelspec": {
      "display_name": "Python 3",
      "name": "python3"
    }
  },
  "nbformat": 4,
  "nbformat_minor": 0
}